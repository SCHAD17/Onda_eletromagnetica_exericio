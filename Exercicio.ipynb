{
 "cells": [
  {
   "cell_type": "markdown",
   "metadata": {},
   "source": [
    "#UNIVERSIDADE FEDERAL DO PARANÁ\n",
    "#DEPARTAMENTO DE ENGENHARIA ELÉTRICA\n",
    "#TE 338 - ONDA ELETROMAGNÉTICA\n",
    "\n",
    "Examen Final\n",
    "\n",
    "Aluno: SCHADRAC WANZA ISULA - GRR 20169906\n",
    "Prof: DR. ARMANDO HEILMANN"
   ]
  },
  {
   "cell_type": "code",
   "execution_count": null,
   "metadata": {},
   "outputs": [],
   "source": [
    "import numpy as np\n",
    "import math\n",
    "from sympy import *\n"
   ]
  },
  {
   "cell_type": "markdown",
   "metadata": {},
   "source": [
    "#1 - EQUAÇÕES DE MAXWELL"
   ]
  },
  {
   "cell_type": "markdown",
   "metadata": {},
   "source": [
    "1. Exercicio 1 da lista cap 3\n",
    "\n",
    "Uma espira circular condutora de raio 20 cm está no plano z = 0 imersa em um campo magnético B = 10 cos377taˆz mWb/m2 . Calcule a tensão induzida na espira. \n"
   ]
  },
  {
   "cell_type": "code",
   "execution_count": null,
   "metadata": {},
   "outputs": [],
   "source": []
  }
 ],
 "metadata": {
  "kernelspec": {
   "display_name": "Python 3.9.13 64-bit (microsoft store)",
   "language": "python",
   "name": "python3"
  },
  "language_info": {
   "name": "python",
   "version": "3.9.13"
  },
  "orig_nbformat": 4,
  "vscode": {
   "interpreter": {
    "hash": "8f06725b43485a2836471aa9b62a1a02615fb1f05449d5c498eeae22d487772d"
   }
  }
 },
 "nbformat": 4,
 "nbformat_minor": 2
}
