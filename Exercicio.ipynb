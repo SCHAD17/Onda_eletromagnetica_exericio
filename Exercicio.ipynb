{
 "cells": [
  {
   "cell_type": "markdown",
   "metadata": {},
   "source": [
    "#UNIVERSIDADE FEDERAL DO PARANÁ\n",
    "#DEPARTAMENTO DE ENGENHARIA ELÉTRICA\n",
    "#TE 338 - ONDA ELETROMAGNÉTICA\n",
    "\n",
    "Examen Final\n",
    "\n",
    "Aluno: SCHADRAC WANZA ISULA - GRR 20169906\n",
    "Prof: DR. ARMANDO HEILMANN"
   ]
  },
  {
   "cell_type": "code",
   "execution_count": 19,
   "metadata": {},
   "outputs": [],
   "source": [
    "import numpy as np\n",
    "import math\n",
    "from sympy import *\n",
    "import cmath\n",
    "\n"
   ]
  },
  {
   "cell_type": "markdown",
   "metadata": {},
   "source": [
    "# 1 - EQUAÇÕES DE MAXWELL"
   ]
  },
  {
   "cell_type": "markdown",
   "metadata": {},
   "source": [
    "                                    1. Exercicio 1 da lista cap 3\n",
    "\n",
    "Uma espira circular condutora de raio 20 cm está no plano z = 0 imersa em um campo magnético B = 10 cos377taˆz mWb/m2 . Calcule a tensão induzida na espira. \n"
   ]
  },
  {
   "cell_type": "code",
   "execution_count": 6,
   "metadata": {},
   "outputs": [
    {
     "name": "stdout",
     "output_type": "stream",
     "text": [
      "Tensão induzida é: 0.473512*sin(377*t) [V] \n"
     ]
    }
   ],
   "source": [
    "# EXERCICIOS SOBRE EQUAÇÔES DE MAXWELL\n",
    "# Exercicio 1 Tensão induzida na espira\n",
    "t = symbols('t')\n",
    "\n",
    "r = 0.2\n",
    "B = 10*(10**(-3))*cos(377*t)\n",
    "V = - diff(B,t)*(r**2)*3.14\n",
    "print(f'Tensão induzida é: {V} [V] ')"
   ]
  },
  {
   "cell_type": "markdown",
   "metadata": {},
   "source": [
    "                                    2. Exercicio 3 da lista cap 3\n",
    "\n",
    "Uma espira retangular de 30 cm por 40 cm gira a 130 rad/s em um campo magnético de 0,06 Wb/m2 , normal ao eixo de rotação. Se a espira tiver 50 voltas, determine a tensão induzida na espira.\n"
   ]
  },
  {
   "cell_type": "code",
   "execution_count": 8,
   "metadata": {},
   "outputs": [
    {
     "name": "stdout",
     "output_type": "stream",
     "text": [
      "Tensão induzida é: -54.0 [V]\n"
     ]
    }
   ],
   "source": [
    "# Exercicio 3 Tensão induzida na espira\n",
    "\n",
    "l = 0.3     # um dos lados em m\n",
    "L = 0.4     # um dos lados em m\n",
    "A = l*L     # Areas em  m^2\n",
    "N = 50      # Numero de voltas\n",
    "B = 0.06    # Campo B em wb*m^-2\n",
    "w = 150     # velocidade em rad/s\n",
    "\n",
    "V = - N*B*A*w\n",
    "\n",
    "print(f'Tensão induzida é: {V} [V]')"
   ]
  },
  {
   "cell_type": "markdown",
   "metadata": {},
   "source": [
    "                                    3. Exercicio 6 da lista Cap 3\n",
    "A razão Jc/Jd (densidade de corrente de condução por densidade de corrente de deslocamento) é muito importante em altas frequências. Calcule a razão em 1GHz para os seguintes meios: \n",
    "a) água destilada (µ = µo, E = 81Eo, σ = 2 × 10−3 S/m) \n",
    "b) água do mar (µ = µo, E = 81Eo, σ = 25 S/m) \n",
    "c) calcário (µ = µo, E = 5Eo, σ = 2 × 10−4 S/m)"
   ]
  },
  {
   "cell_type": "code",
   "execution_count": 14,
   "metadata": {},
   "outputs": [
    {
     "name": "stdout",
     "output_type": "stream",
     "text": [
      "Jc/Jd para água destilada: 0.00044403973799789464\n",
      "Jc/Jd para água do mar: 5.550496724973683\n",
      "Jc/Jd para calcário: 0.0007193443755565892\n"
     ]
    }
   ],
   "source": [
    "# Exercicio 6 - Jc/Jd\n",
    "\n",
    "f = 1*10**9   # Frequencia\n",
    "w = 2*math.pi*f\n",
    "e0 = 8.85*10**(-12) \n",
    "d1 = 2 * 10**(-3)   # condutividade da água destilada\n",
    "e1 = e0*81\n",
    "\n",
    "d2 = 25   # condutividade da água do mar\n",
    "e2 = e0*81\n",
    "\n",
    "d3 = 2*10**(-4)   # condutividade do calcário\n",
    "e3 = e0*5\n",
    "\n",
    "\n",
    "print(f'Jc/Jd para água destilada: {d1/(e1*w)}')\n",
    "print(f'Jc/Jd para água do mar: {d2/(e2*w)}')\n",
    "print(f'Jc/Jd para calcário: {d3/(e3*w)}')\n",
    "\n"
   ]
  },
  {
   "cell_type": "markdown",
   "metadata": {},
   "source": [
    "# 2 LINHA DE TRANSMISSÃO                                    \n",
    "                                    4. Exercicio 6 da lista cap 6\n",
    "\n",
    "A indutância de uma linha de transmissão é de 2, 0µH/m e sua resistência de corrente contínua de 2, 59×10−3Ω/m, capacitância estimada em 5,56 pF/m. Determine a impedância característica, a constante de propagação (que é a constante de atenuação e de fase), a velocidade de propagação e o comprimento de onda, considerando uma frequência de operação de 5 kHz"
   ]
  },
  {
   "cell_type": "code",
   "execution_count": 46,
   "metadata": {},
   "outputs": [
    {
     "name": "stdout",
     "output_type": "stream",
     "text": [
      "Z = (0.06288521177857115, 1.5295985201551507) Ohms\n",
      "Constante de propagação = (0.00010480610857898818, 1.5501974234750235)\n",
      "Vp = 299880071.952034 m/s\n",
      "Lambda = 59976.0143904067\n"
     ]
    }
   ],
   "source": [
    "R = 2.59*10**(-3) \n",
    "L = 2.0*10**(-6) \n",
    "C = 5.56*10**(-12)\n",
    "f = 5*10**(3)\n",
    "w = 2*math.pi*f\n",
    "G = 0\n",
    "\n",
    "lam = 1/(f*(sqrt(L*C)))                             # Comprimento de Onda\n",
    "#Z = R + (w*L)j\n",
    "Z = complex(R,w*L)\n",
    "#Y = G + (w*C)j   \n",
    "Y = complex(G, w*C) \n",
    "Vp = 1/sqrt(L*C)                                      # Velocidade de propagação\n",
    "Z0 = sqrt(complex(R, (w*L))/complex(G, (w*C)))\n",
    "Const_Pro = sqrt(Z*Y)                                 # Constante de propagação\n",
    "\n",
    "print(f'Z = {cmath.polar(Z)} Ohms')\n",
    "print(f'Constante de propagação = {cmath.polar(Const_Pro)}')\n",
    "print(f'Vp = {Vp} m/s')\n",
    "print(f'Lambda = {lam}')"
   ]
  },
  {
   "cell_type": "markdown",
   "metadata": {},
   "source": [
    "                                            5. Exercicio 8 da lista cap 6\n",
    "\n",
    "Os parâmetros de certa linha de transmissão, operando em ω = 6 ×8 rad/s, são: L = 0, 35µH/m, C = 40pF/m, G = 75µS/m e R = 17Ω/m. Calcule a constante de propagação na linha (γ), o coeficiente de atenuação (α), coeficiente de defasamento (β), comprimento de onda (λ) e a impedância característica expressa pelos parâmetros da linha. "
   ]
  },
  {
   "cell_type": "code",
   "execution_count": 45,
   "metadata": {},
   "outputs": [
    {
     "name": "stdout",
     "output_type": "stream",
     "text": [
      "Z0 = sqrt(8752.12807166597 - 680.982933109377*I) Ohms\n",
      "Constante de propagação = sqrt(-1.09750000940114e-8 + 4.52401908487545e-10*I) \n",
      "Lambda = 2.79875318060452\n"
     ]
    }
   ],
   "source": [
    "R = 17\n",
    "L = 0.35*10**(-6)\n",
    "C = 40*10**(-12)\n",
    "G = 75*10**(-6)\n",
    "w = 6*10**(8)\n",
    "\n",
    "lam = (2*math.pi)/(w*(sqrt(L*C)))\n",
    "Z = complex(R,w*L)\n",
    "Y = complex(G, w*C) \n",
    "Z0 = sqrt(complex(R, (w*L))/complex(G, (w*C)))\n",
    "\n",
    "print(f'Z0 = {Z0} Ohms')\n",
    "print(f'Constante de propagação = {Const_Pro} ')\n",
    "print(f'Lambda = {lam}')\n"
   ]
  },
  {
   "cell_type": "markdown",
   "metadata": {},
   "source": [
    "                                    6. Exercicio 10 da lista cap 6\n",
    "A impedância característica de certa linha de transmissão sem perdas é 72Ω. Se L = 0, 5µH/m, calcule: (a) C; (b) υp; (c) β se f = 80 MHz."
   ]
  },
  {
   "cell_type": "code",
   "execution_count": 39,
   "metadata": {},
   "outputs": [
    {
     "name": "stdout",
     "output_type": "stream",
     "text": [
      "C = 9.645061728395061e-11 F\n",
      "Vp = 144000000.000000 m/s\n",
      "beta = 3.49065850398866 rad/m\n"
     ]
    }
   ],
   "source": [
    "Z0 = 72\n",
    "L = 0.5*10**(-6)\n",
    "f = 80*10**(6)\n",
    "\n",
    "w = 2*math.pi*f\n",
    "C = L/(Z0**2)\n",
    "beta = w*sqrt(L*C)\n",
    "Vp = w/beta\n",
    "\n",
    "print(f'C = {C} F')\n",
    "print(f'Vp = {Vp} m/s')\n",
    "print(f'beta = {beta} rad/m')"
   ]
  },
  {
   "cell_type": "markdown",
   "metadata": {},
   "source": [
    "                                    7. Exercicio 11 da lista cap 6\n",
    "\n",
    "Uma linha de transmissão no ar tem impedância característica de 70Ω,e portanto, pode ser considerada uma linha sem perdas. Sua constante de fase é de 3 rad/m a 100 MHz. Calcule a indutância por metro e a capacitância por metro da linha."
   ]
  },
  {
   "cell_type": "code",
   "execution_count": 37,
   "metadata": {},
   "outputs": [
    {
     "name": "stdout",
     "output_type": "stream",
     "text": [
      "C = 6.8209261325098e-11 F\n",
      "L = 3.3422538049298023e-07 H\n"
     ]
    }
   ],
   "source": [
    "Z0 = 70\n",
    "beta = 3\n",
    "f = 100*10**(6)\n",
    "\n",
    "w = 2*math.pi*f\n",
    "\n",
    "L = (beta*Z0)/w\n",
    "C = L/(Z0**2)\n",
    "\n",
    "\n",
    "print(f'C = {C} F')\n",
    "print(f'L = {L} H')"
   ]
  },
  {
   "cell_type": "markdown",
   "metadata": {},
   "source": [
    "# 3 ANTENAS                                    \n",
    "                                    8. Exercicio 5 da lista Cap 7\n",
    "\n",
    "Uma antena refletora parabólica com diâmetro de abertura d = 3.7m opera em uma frequência f = 11GHz no espaço livre. A eficiência de abertura do refletor é ηabertura = 70%. Qual o ganho dB da antena?"
   ]
  },
  {
   "cell_type": "code",
   "execution_count": 36,
   "metadata": {},
   "outputs": [
    {
     "name": "stdout",
     "output_type": "stream",
     "text": [
      "Gdb = 51.0434409441364 db\n"
     ]
    }
   ],
   "source": [
    "d = 3.7\n",
    "n = 0.7\n",
    "f = 11*10**9\n",
    "C = 3*10**8\n",
    "\n",
    "\n",
    "A = math.pi*(d/2)**2\n",
    "Aef = n*A\n",
    "G = (Aef*4*math.pi)/((C/f)**2)\n",
    "\n",
    "Gdb = 10*math.log10(G)\n",
    "print(f'Gdb = {Gdb} db')"
   ]
  },
  {
   "cell_type": "markdown",
   "metadata": {},
   "source": [
    "                                        9. Exercicio 6 da lista Cap 7\n",
    "\n",
    "Um sistema de comunicação micro-ondas long-range operando em uma frequência de 20 GHz no espaço livre usa duas antenas idênticas nas extremidades receptora e transmissora, cada qual com ganho GdB = 20dB. Para uma taxa aceitável de sinal para ruído (SNR) do receptor, a potência recebida deve ser no mínimo Pr = 1µW. Para a potência de entrada da antena transmissora de Pen = 100W e condições ideais de casamento e orientação, encontre a separação máxima (r) entre as antenas de modo que o SNR do receptor seja ainda aceitável. Dica: some os ganhos à atenuação do espaço livre.        "
   ]
  },
  {
   "cell_type": "code",
   "execution_count": 35,
   "metadata": {},
   "outputs": [
    {
     "name": "stdout",
     "output_type": "stream",
     "text": [
      "r = 1.1914923520864231 km\n"
     ]
    }
   ],
   "source": [
    "Pen = 100\n",
    "Pr = 1*10**(-6)\n",
    "G = 20\n",
    "f = 20*10**9\n",
    "\n",
    "c = 3*10**8\n",
    "\n",
    "Adb = 10*math.log10(Pen/Pr);\n",
    "r = (c/f)*10**((Adb+2*G - 22)/20)\n",
    "\n",
    "print(f'r = {r*0.001} km')"
   ]
  },
  {
   "cell_type": "markdown",
   "metadata": {},
   "source": [
    "                                        10. Exercicio 11 da lista Cap 7\n",
    "\n",
    "Uma antena pode ser modelada como um dipolo elétrico de 5 m a 3 MHz. Encontre a resistência de irradiação da antena, supondo uma distribuição de corrente uniforme ao longo de seu comprimento"
   ]
  },
  {
   "cell_type": "code",
   "execution_count": 44,
   "metadata": {},
   "outputs": [
    {
     "name": "stdout",
     "output_type": "stream",
     "text": [
      "Rrad = 1.9750000000000003 Ohms\n"
     ]
    }
   ],
   "source": [
    "l = 5\n",
    "f = 3*10**6\n",
    "\n",
    "c = 3*10**8\n",
    "la = c/f\n",
    "\n",
    "R = 790*(l/la)**2\n",
    "\n",
    "print(f'Rrad = {R} Ohms')"
   ]
  }
 ],
 "metadata": {
  "kernelspec": {
   "display_name": "Python 3.9.7 64-bit (system)",
   "language": "python",
   "name": "python3"
  },
  "language_info": {
   "codemirror_mode": {
    "name": "ipython",
    "version": 3
   },
   "file_extension": ".py",
   "mimetype": "text/x-python",
   "name": "python",
   "nbconvert_exporter": "python",
   "pygments_lexer": "ipython3",
   "version": "3.9.7"
  },
  "orig_nbformat": 4,
  "vscode": {
   "interpreter": {
    "hash": "c7eff589202d1b081309a21c1fcab32e7bd6b92ee77a4b4c9e08aff7652052eb"
   }
  }
 },
 "nbformat": 4,
 "nbformat_minor": 2
}
