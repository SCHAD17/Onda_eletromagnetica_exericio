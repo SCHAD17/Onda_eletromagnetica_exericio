{
 "cells": [
  {
   "cell_type": "markdown",
   "metadata": {},
   "source": [
    "#UNIVERSIDADE FEDERAL DO PARANÁ\n",
    "#DEPARTAMENTO DE ENGENHARIA ELÉTRICA\n",
    "#TE 338 - ONDA ELETROMAGNÉTICA\n",
    "\n",
    "Examen Final\n",
    "\n",
    "Aluno: SCHADRAC WANZA ISULA - GRR 20169906\n",
    "Prof: DR. ARMANDO HEILMANN"
   ]
  },
  {
   "cell_type": "code",
   "execution_count": 1,
   "metadata": {},
   "outputs": [],
   "source": [
    "import numpy as np\n",
    "import math\n",
    "from sympy import *\n"
   ]
  },
  {
   "cell_type": "markdown",
   "metadata": {},
   "source": [
    "#1 - EQUAÇÕES DE MAXWELL"
   ]
  },
  {
   "cell_type": "markdown",
   "metadata": {},
   "source": [
    "1. Exercicio 1 da lista cap 3\n",
    "\n",
    "Uma espira circular condutora de raio 20 cm está no plano z = 0 imersa em um campo magnético B = 10 cos377taˆz mWb/m2 . Calcule a tensão induzida na espira. \n"
   ]
  },
  {
   "cell_type": "code",
   "execution_count": 3,
   "metadata": {},
   "outputs": [
    {
     "name": "stdout",
     "output_type": "stream",
     "text": [
      "Tensão induzida é: 0.473512*sin(377*t) \n"
     ]
    }
   ],
   "source": [
    "# EXERCICIOS SOBRE EQUAÇÔES DE MAXWELL\n",
    "# Exercicio 1 Tensão induzida na espira\n",
    "t = symbols('t')\n",
    "\n",
    "r = 0.2\n",
    "B = 10*(10**(-3))*cos(377*t)\n",
    "V = - diff(B,t)*(r**2)*3.14\n",
    "print(f'Tensão induzida é: {V} ')"
   ]
  }
 ],
 "metadata": {
  "kernelspec": {
   "display_name": "Python 3.9.7 64-bit (system)",
   "language": "python",
   "name": "python3"
  },
  "language_info": {
   "codemirror_mode": {
    "name": "ipython",
    "version": 3
   },
   "file_extension": ".py",
   "mimetype": "text/x-python",
   "name": "python",
   "nbconvert_exporter": "python",
   "pygments_lexer": "ipython3",
   "version": "3.9.7"
  },
  "orig_nbformat": 4,
  "vscode": {
   "interpreter": {
    "hash": "c7eff589202d1b081309a21c1fcab32e7bd6b92ee77a4b4c9e08aff7652052eb"
   }
  }
 },
 "nbformat": 4,
 "nbformat_minor": 2
}
