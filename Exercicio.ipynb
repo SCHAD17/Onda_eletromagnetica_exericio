{
 "cells": [
  {
   "cell_type": "markdown",
   "metadata": {},
   "source": [
    "#UNIVERSIDADE FEDERAL DO PARANÁ\n",
    "#DEPARTAMENTO DE ENGENHARIA ELÉTRICA\n",
    "#TE 338 - ONDA ELETROMAGNÉTICA\n",
    "\n",
    "Examen Final\n",
    "\n",
    "Aluno: SCHADRAC WANZA ISULA - GRR 20169906\n",
    "Prof: DR. ARMANDO HEILMANN"
   ]
  },
  {
   "cell_type": "code",
   "execution_count": 1,
   "metadata": {},
   "outputs": [],
   "source": [
    "import numpy as np\n",
    "import math\n",
    "from sympy import *\n"
   ]
  },
  {
   "cell_type": "markdown",
   "metadata": {},
   "source": [
    "#1 - EQUAÇÕES DE MAXWELL"
   ]
  },
  {
   "cell_type": "markdown",
   "metadata": {},
   "source": [
    "                                    1. Exercicio 1 da lista cap 3\n",
    "\n",
    "Uma espira circular condutora de raio 20 cm está no plano z = 0 imersa em um campo magnético B = 10 cos377taˆz mWb/m2 . Calcule a tensão induzida na espira. \n"
   ]
  },
  {
   "cell_type": "code",
   "execution_count": 6,
   "metadata": {},
   "outputs": [
    {
     "name": "stdout",
     "output_type": "stream",
     "text": [
      "Tensão induzida é: 0.473512*sin(377*t) [V] \n"
     ]
    }
   ],
   "source": [
    "# EXERCICIOS SOBRE EQUAÇÔES DE MAXWELL\n",
    "# Exercicio 1 Tensão induzida na espira\n",
    "t = symbols('t')\n",
    "\n",
    "r = 0.2\n",
    "B = 10*(10**(-3))*cos(377*t)\n",
    "V = - diff(B,t)*(r**2)*3.14\n",
    "print(f'Tensão induzida é: {V} [V] ')"
   ]
  },
  {
   "cell_type": "markdown",
   "metadata": {},
   "source": [
    "                                    2. Exercicio 3 da lista cap 3\n",
    "\n",
    "Uma espira retangular de 30 cm por 40 cm gira a 130 rad/s em um campo magnético de 0,06 Wb/m2 , normal ao eixo de rotação. Se a espira tiver 50 voltas, determine a tensão induzida na espira.\n"
   ]
  },
  {
   "cell_type": "code",
   "execution_count": 8,
   "metadata": {},
   "outputs": [
    {
     "name": "stdout",
     "output_type": "stream",
     "text": [
      "Tensão induzida é: -54.0 [V]\n"
     ]
    }
   ],
   "source": [
    "# Exercicio 3 Tensão induzida na espira\n",
    "\n",
    "l = 0.3     # um dos lados em m\n",
    "L = 0.4     # um dos lados em m\n",
    "A = l*L     # Areas em  m^2\n",
    "N = 50      # Numero de voltas\n",
    "B = 0.06    # Campo B em wb*m^-2\n",
    "w = 150     # velocidade em rad/s\n",
    "\n",
    "V = - N*B*A*w\n",
    "\n",
    "print(f'Tensão induzida é: {V} [V]')"
   ]
  },
  {
   "cell_type": "markdown",
   "metadata": {},
   "source": [
    "                                    3. Exercicio 6 da lista Cap 3\n",
    "A razão Jc/Jd (densidade de corrente de condução por densidade de corrente de deslocamento) é muito importante em altas frequências. Calcule a razão em 1GHz para os seguintes meios: \n",
    "a) água destilada (µ = µo, E = 81Eo, σ = 2 × 10−3 S/m) \n",
    "b) água do mar (µ = µo, E = 81Eo, σ = 25 S/m) \n",
    "c) calcário (µ = µo, E = 5Eo, σ = 2 × 10−4 S/m)"
   ]
  }
 ],
 "metadata": {
  "kernelspec": {
   "display_name": "Python 3.9.7 64-bit (system)",
   "language": "python",
   "name": "python3"
  },
  "language_info": {
   "codemirror_mode": {
    "name": "ipython",
    "version": 3
   },
   "file_extension": ".py",
   "mimetype": "text/x-python",
   "name": "python",
   "nbconvert_exporter": "python",
   "pygments_lexer": "ipython3",
   "version": "3.9.7"
  },
  "orig_nbformat": 4,
  "vscode": {
   "interpreter": {
    "hash": "c7eff589202d1b081309a21c1fcab32e7bd6b92ee77a4b4c9e08aff7652052eb"
   }
  }
 },
 "nbformat": 4,
 "nbformat_minor": 2
}
