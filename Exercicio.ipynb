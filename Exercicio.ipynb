{
 "cells": [
  {
   "cell_type": "markdown",
   "metadata": {},
   "source": [
    "#UNIVERSIDADE FEDERAL DO PARANÁ\n",
    "#DEPARTAMENTO DE ENGENHARIA ELÉTRICA\n",
    "#TE 338 - ONDA ELETROMAGNÉTICA\n",
    "\n",
    "Examen Final\n",
    "\n",
    "Aluno: SCHADRAC WANZA ISULA - GRR 20169906\n",
    "Prof: DR. ARMANDO HEILMANN"
   ]
  },
  {
   "cell_type": "code",
   "execution_count": 19,
   "metadata": {},
   "outputs": [],
   "source": [
    "import numpy as np\n",
    "import math\n",
    "from sympy import *\n",
    "import cmath\n",
    "\n"
   ]
  },
  {
   "cell_type": "markdown",
   "metadata": {},
   "source": [
    "#1 - EQUAÇÕES DE MAXWELL"
   ]
  },
  {
   "cell_type": "markdown",
   "metadata": {},
   "source": [
    "                                    1. Exercicio 1 da lista cap 3\n",
    "\n",
    "Uma espira circular condutora de raio 20 cm está no plano z = 0 imersa em um campo magnético B = 10 cos377taˆz mWb/m2 . Calcule a tensão induzida na espira. \n"
   ]
  },
  {
   "cell_type": "code",
   "execution_count": 6,
   "metadata": {},
   "outputs": [
    {
     "name": "stdout",
     "output_type": "stream",
     "text": [
      "Tensão induzida é: 0.473512*sin(377*t) [V] \n"
     ]
    }
   ],
   "source": [
    "# EXERCICIOS SOBRE EQUAÇÔES DE MAXWELL\n",
    "# Exercicio 1 Tensão induzida na espira\n",
    "t = symbols('t')\n",
    "\n",
    "r = 0.2\n",
    "B = 10*(10**(-3))*cos(377*t)\n",
    "V = - diff(B,t)*(r**2)*3.14\n",
    "print(f'Tensão induzida é: {V} [V] ')"
   ]
  },
  {
   "cell_type": "markdown",
   "metadata": {},
   "source": [
    "                                    2. Exercicio 3 da lista cap 3\n",
    "\n",
    "Uma espira retangular de 30 cm por 40 cm gira a 130 rad/s em um campo magnético de 0,06 Wb/m2 , normal ao eixo de rotação. Se a espira tiver 50 voltas, determine a tensão induzida na espira.\n"
   ]
  },
  {
   "cell_type": "code",
   "execution_count": 8,
   "metadata": {},
   "outputs": [
    {
     "name": "stdout",
     "output_type": "stream",
     "text": [
      "Tensão induzida é: -54.0 [V]\n"
     ]
    }
   ],
   "source": [
    "# Exercicio 3 Tensão induzida na espira\n",
    "\n",
    "l = 0.3     # um dos lados em m\n",
    "L = 0.4     # um dos lados em m\n",
    "A = l*L     # Areas em  m^2\n",
    "N = 50      # Numero de voltas\n",
    "B = 0.06    # Campo B em wb*m^-2\n",
    "w = 150     # velocidade em rad/s\n",
    "\n",
    "V = - N*B*A*w\n",
    "\n",
    "print(f'Tensão induzida é: {V} [V]')"
   ]
  },
  {
   "cell_type": "markdown",
   "metadata": {},
   "source": [
    "                                    3. Exercicio 6 da lista Cap 3\n",
    "A razão Jc/Jd (densidade de corrente de condução por densidade de corrente de deslocamento) é muito importante em altas frequências. Calcule a razão em 1GHz para os seguintes meios: \n",
    "a) água destilada (µ = µo, E = 81Eo, σ = 2 × 10−3 S/m) \n",
    "b) água do mar (µ = µo, E = 81Eo, σ = 25 S/m) \n",
    "c) calcário (µ = µo, E = 5Eo, σ = 2 × 10−4 S/m)"
   ]
  },
  {
   "cell_type": "code",
   "execution_count": 14,
   "metadata": {},
   "outputs": [
    {
     "name": "stdout",
     "output_type": "stream",
     "text": [
      "Jc/Jd para água destilada: 0.00044403973799789464\n",
      "Jc/Jd para água do mar: 5.550496724973683\n",
      "Jc/Jd para calcário: 0.0007193443755565892\n"
     ]
    }
   ],
   "source": [
    "# Exercicio 6 - Jc/Jd\n",
    "\n",
    "f = 1*10**9   # Frequencia\n",
    "w = 2*math.pi*f\n",
    "e0 = 8.85*10**(-12) \n",
    "d1 = 2 * 10**(-3)   # condutividade da água destilada\n",
    "e1 = e0*81\n",
    "\n",
    "d2 = 25   # condutividade da água do mar\n",
    "e2 = e0*81\n",
    "\n",
    "d3 = 2*10**(-4)   # condutividade do calcário\n",
    "e3 = e0*5\n",
    "\n",
    "\n",
    "print(f'Jc/Jd para água destilada: {d1/(e1*w)}')\n",
    "print(f'Jc/Jd para água do mar: {d2/(e2*w)}')\n",
    "print(f'Jc/Jd para calcário: {d3/(e3*w)}')\n",
    "\n"
   ]
  },
  {
   "cell_type": "markdown",
   "metadata": {},
   "source": [
    "                                    4. Exercicio 6 da lista cap 6\n",
    "\n",
    "A indutância de uma linha de transmissão é de 2, 0µH/m e sua resistência de corrente contínua de 2, 59×10−3Ω/m, capacitância estimada em 5,56 pF/m. Determine a impedância característica, a constante de propagação (que é a constante de atenuação e de fase), a velocidade de propagação e o comprimento de onda, considerando uma frequência de operação de 5 kHz"
   ]
  },
  {
   "cell_type": "code",
   "execution_count": 22,
   "metadata": {},
   "outputs": [
    {
     "name": "stdout",
     "output_type": "stream",
     "text": [
      "Z = (0.06288521177857115, 1.5295985201551507)\n",
      "Constante de propagação = (0.00010480610857898818, 1.5501974234750235)\n",
      "Vp = 299880071.952034\n",
      "Lambda = 59976.0143904067\n"
     ]
    }
   ],
   "source": [
    "R = 2.59*10**(-3) \n",
    "L = 2.0*10**(-6) \n",
    "C = 5.56*10**(-12)\n",
    "f = 5*10**(3)\n",
    "w = 2*math.pi*f\n",
    "G = 0\n",
    "\n",
    "lamda = 1/(f*(sqrt(L*C)))                             # Comprimento de Onda\n",
    "#Z = R + (w*L)j\n",
    "Z = complex(R,w*L)\n",
    "#Y = G + (w*C)j   \n",
    "Y = complex(G, w*C) \n",
    "Vp = 1/sqrt(L*C)                                      # Velocidade de propagação\n",
    "Z0 = sqrt(complex(R, (w*L))/complex(G, (w*C)))\n",
    "Const_Pro = sqrt(Z*Y)                                 # Constante de propagação\n",
    "\n",
    "print(f'Z = {cmath.polar(Z)}')\n",
    "print(f'Constante de propagação = {cmath.polar(Const_Pro)}')\n",
    "print(f'Vp = {Vp}')\n",
    "print(f'Lambda = {lamda}')"
   ]
  }
 ],
 "metadata": {
  "kernelspec": {
   "display_name": "Python 3.9.7 64-bit (system)",
   "language": "python",
   "name": "python3"
  },
  "language_info": {
   "codemirror_mode": {
    "name": "ipython",
    "version": 3
   },
   "file_extension": ".py",
   "mimetype": "text/x-python",
   "name": "python",
   "nbconvert_exporter": "python",
   "pygments_lexer": "ipython3",
   "version": "3.9.7"
  },
  "orig_nbformat": 4,
  "vscode": {
   "interpreter": {
    "hash": "c7eff589202d1b081309a21c1fcab32e7bd6b92ee77a4b4c9e08aff7652052eb"
   }
  }
 },
 "nbformat": 4,
 "nbformat_minor": 2
}
